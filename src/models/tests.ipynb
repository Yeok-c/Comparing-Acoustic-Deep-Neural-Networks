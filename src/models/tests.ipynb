{
 "cells": [
  {
   "cell_type": "code",
   "execution_count": 8,
   "metadata": {},
   "outputs": [],
   "source": [
    "from tensorflow.keras import layers, Model\n",
    "num_classes=6\n",
    "\n",
    "from vggish_tf2 import vggish as vgk\n",
    "base_model = vgk.VGGish(include_top=True)\n",
    "base_model.load_weights(\"C:/Users/User/Documents/comparing_acoustic_deep_neural_networks/src/models/vggish_tf2/model/vggish_audioset_weights.h5\")\n",
    "x = layers.GlobalAveragePooling2D()(base_model.layers[-6].output)\n",
    "\n",
    "x = layers.Dropout(0.4)(x)\n",
    "x = layers.Dense(1024)(x)\n",
    "x = layers.Dropout(0.2)(x)\n",
    "x = layers.Dense(64)(x)\n",
    "\n",
    "logits = layers.Dense(units=num_classes, use_bias=True)(x)\n",
    "predictions = layers.Activation(activation='Softmax')(logits) # <- Sigmoid in some original implementations though\n",
    "model = Model(base_model.input, predictions) \n",
    "# model.summary()    # model.summary()\n"
   ]
  },
  {
   "cell_type": "code",
   "execution_count": 9,
   "metadata": {},
   "outputs": [
    {
     "name": "stdout",
     "output_type": "stream",
     "text": [
      "Model: \"model_2\"\n",
      "_________________________________________________________________\n",
      " Layer (type)                Output Shape              Param #   \n",
      "=================================================================\n",
      " input_1 (InputLayer)        [(None, 96, 64, 1)]       0         \n",
      "                                                                 \n",
      " conv1 (Conv2D)              (None, 96, 64, 64)        640       \n",
      "                                                                 \n",
      " pool1 (MaxPooling2D)        (None, 48, 32, 64)        0         \n",
      "                                                                 \n",
      " conv2 (Conv2D)              (None, 48, 32, 128)       73856     \n",
      "                                                                 \n",
      " pool2 (MaxPooling2D)        (None, 24, 16, 128)       0         \n",
      "                                                                 \n",
      " conv3/conv3_1 (Conv2D)      (None, 24, 16, 256)       295168    \n",
      "                                                                 \n",
      " conv3/conv3_2 (Conv2D)      (None, 24, 16, 256)       590080    \n",
      "                                                                 \n",
      " pool3 (MaxPooling2D)        (None, 12, 8, 256)        0         \n",
      "                                                                 \n",
      " conv4/conv4_1 (Conv2D)      (None, 12, 8, 512)        1180160   \n",
      "                                                                 \n",
      " conv4/conv4_2 (Conv2D)      (None, 12, 8, 512)        2359808   \n",
      "                                                                 \n",
      " global_average_pooling2d (G  (None, 512)              0         \n",
      " lobalAveragePooling2D)                                          \n",
      "                                                                 \n",
      " dropout_6 (Dropout)         (None, 512)               0         \n",
      "                                                                 \n",
      " dense_8 (Dense)             (None, 1024)              525312    \n",
      "                                                                 \n",
      " dropout_7 (Dropout)         (None, 1024)              0         \n",
      "                                                                 \n",
      " dense_9 (Dense)             (None, 64)                65600     \n",
      "                                                                 \n",
      " dense_10 (Dense)            (None, 6)                 390       \n",
      "                                                                 \n",
      " activation_2 (Activation)   (None, 6)                 0         \n",
      "                                                                 \n",
      "=================================================================\n",
      "Total params: 5,091,014\n",
      "Trainable params: 5,091,014\n",
      "Non-trainable params: 0\n",
      "_________________________________________________________________\n"
     ]
    }
   ],
   "source": [
    "model.summary()\n"
   ]
  }
 ],
 "metadata": {
  "interpreter": {
   "hash": "aef9c008b311f0b7f3d27d4f3907c3c9c136ad861e53efda71f92a04d644c5c8"
  },
  "kernelspec": {
   "display_name": "Python 3.9.7 ('usc39')",
   "language": "python",
   "name": "python3"
  },
  "language_info": {
   "codemirror_mode": {
    "name": "ipython",
    "version": 3
   },
   "file_extension": ".py",
   "mimetype": "text/x-python",
   "name": "python",
   "nbconvert_exporter": "python",
   "pygments_lexer": "ipython3",
   "version": "3.9.7"
  },
  "orig_nbformat": 4
 },
 "nbformat": 4,
 "nbformat_minor": 2
}
